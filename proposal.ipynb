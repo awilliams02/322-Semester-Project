{
 "cells": [
  {
   "cell_type": "markdown",
   "metadata": {},
   "source": [
    "## 322 Project Proposal\n",
    "### Stress Detection\n",
    "\n",
    "Alexa Williams and Mia Procel\n",
    "\n",
    "\n",
    "#### Dataset Description\n",
    "\n",
    "Our dataset came from Kaggle. The dtaset is formatted as a csv file, and it has 3000 instances. The dataset has many attributes including PSS_score,Openness,Conscientiousness,Extraversion,Agreeableness,Neuroticism,sleep_time,wake_time,sleep_duration,PSQI_score,call_duration,num_calls,num_sms,screen_on_time, and more. \n",
    "\n",
    "\n",
    "PSS_score is the class we will be predicting. \n"
   ]
  }
 ],
 "metadata": {
  "language_info": {
   "name": "python"
  }
 },
 "nbformat": 4,
 "nbformat_minor": 2
}
