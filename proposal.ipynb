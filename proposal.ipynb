{
 "cells": [
  {
   "cell_type": "markdown",
   "metadata": {},
   "source": [
    "## 322 Project Proposal\n",
    "### Stress Detection\n",
    "\n",
    "Alexa Williams and Mia Procel\n",
    "\n",
    "\n",
    "#### Dataset Description\n",
    "\n",
    "Our dataset came from Kaggle. The dtaset is formatted as a csv file, and it has 3000 instances. The dataset has many attributes including PSS_score,Openness,Conscientiousness,Extraversion,Agreeableness,Neuroticism,sleep_time,wake_time,sleep_duration,PSQI_score,call_duration,num_calls,num_sms,screen_on_time, and more. \n",
    "\n",
    "\n",
    "PSS_score is the class we will be predicting. \n"
   ]
  },
  {
   "cell_type": "markdown",
   "metadata": {},
   "source": [
    "#### Implementation/Technical Merit\n",
    "\n",
    "For classification, all the attributes are numerical, so the first part of our classification will be to discretize each attribute. The difficult part will be determining how to discretize. Figuring out how to categorize each attribute so that it will be evenly spread will be difficult. Another added layer of complication will be that this is a large dataset, so pinning down exactly how to categorize each attribute will be that much more difficult.\n",
    "\n",
    "#### Potential Impact of the Results\n",
    "\n",
    "These results will be useful because we will be able to directly see what factors contribute to stress. With this information, steps can be taken to minimize stress. The people who could be impacted by this are people who experience high levels of stress. Once the habits that lead to the high stress are found, steps can be taken to improve those habits to lower stress.\n"
   ]
  }
 ],
 "metadata": {
  "language_info": {
   "name": "python"
  }
 },
 "nbformat": 4,
 "nbformat_minor": 2
}
