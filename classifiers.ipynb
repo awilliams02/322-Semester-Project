{
 "cells": [
  {
   "cell_type": "markdown",
   "metadata": {},
   "source": [
    "## Stress Detection Classifiers\n",
    "\n",
    "This notebook holds:\n",
    "\n",
    "* Dummy Classifier\n",
    "* kNN Classifier (k = 100)\n",
    "* Naive Bayes Classifier\n",
    "* Decision Tree Classifier \n",
    "\n",
    "The classifiers are created using k-fold cross validation with (k = 10)."
   ]
  },
  {
   "cell_type": "code",
   "execution_count": 35,
   "metadata": {},
   "outputs": [
    {
     "data": {
      "text/plain": [
       "<mysklearn.mypytable.MyPyTable at 0x7facd4463bc0>"
      ]
     },
     "execution_count": 35,
     "metadata": {},
     "output_type": "execute_result"
    }
   ],
   "source": [
    "import importlib\n",
    "from tabulate import tabulate\n",
    "\n",
    "import mysklearn.myutils\n",
    "importlib.reload(mysklearn.myutils)\n",
    "import mysklearn.myutils as myutils\n",
    "\n",
    "import mysklearn.mypytable\n",
    "importlib.reload(mysklearn.mypytable)\n",
    "from mysklearn.mypytable import MyPyTable \n",
    "\n",
    "import mysklearn.myclassifiers\n",
    "importlib.reload(mysklearn.myclassifiers)\n",
    "from mysklearn.myclassifiers import MyKNeighborsClassifier, MyDummyClassifier, MyNaiveBayesClassifier, MyDecisionTreeClassifier\n",
    "\n",
    "import mysklearn.myevaluation\n",
    "importlib.reload(mysklearn.myevaluation)\n",
    "import mysklearn.myevaluation as myevaluation\n",
    "\n",
    "stress_data = MyPyTable()\n",
    "stress_data.load_from_file(\"cleaned_data.csv\")\n",
    "\n",
    "undiscretized_data = MyPyTable()\n",
    "undiscretized_data.load_from_file(\"stress_detection.csv\")"
   ]
  },
  {
   "cell_type": "markdown",
   "metadata": {},
   "source": [
    "## Summary Statistics of the Stress Detection Data Before Discretization\n",
    "* We used these summary statistics to decide how to discretize the data."
   ]
  },
  {
   "cell_type": "code",
   "execution_count": 36,
   "metadata": {},
   "outputs": [
    {
     "name": "stdout",
     "output_type": "stream",
     "text": [
      "Summary Statistics: \n",
      "attribute                  min        max        mid        avg     median\n",
      "-----------------  -----------  ---------  ---------  ---------  ---------\n",
      "participant_id      1           100        50.5       50.5       50.5\n",
      "day                 1            30        15.5       15.5       15.5\n",
      "PSS_score          10            39        24.5       24.701     25\n",
      "Openness            1.005         4.9974    3.0012     3.02066    3.05012\n",
      "Conscientiousness   1.00098       4.99914   3.00006    3.00788    3.02206\n",
      "Extraversion        1.00058       4.99764   2.99911    3.0021     2.98555\n",
      "Agreeableness       1.00221       4.99988   3.00104    3.04766    3.09178\n",
      "Neuroticism         1.00017       4.99641   2.99829    2.96359    2.94095\n",
      "sleep_time          5.00329       8.99995   7.00162    7.00214    6.97822\n",
      "wake_time           5.00193       8.99837   7.00015    6.99057    6.98226\n",
      "sleep_duration      6.00056       8.99906   7.49981    7.47795    7.46342\n",
      "PSQI_score          1             4         2.5        2.49033    2\n",
      "call_duration       0.00288614   59.9831   29.993     29.7171    29.4652\n",
      "num_calls           0            19         9.5        9.362      9\n",
      "num_sms             0            49        24.5       24.4723    24\n",
      "screen_on_time      1.00687      11.9979    6.50237    6.62478    6.70097\n",
      "skin_conductance    0.501595      4.9991    2.75035    2.76202    2.769\n",
      "accelerometer       0.100791      2.49995   1.30037    1.31704    1.32042\n",
      "mobility_radius     0.100041      1.49989   0.799966   0.803164   0.793928\n",
      "mobility_distance   0.501622      4.99993   2.75078    2.80168    2.80107\n"
     ]
    }
   ],
   "source": [
    "summary_statistics = undiscretized_data.compute_summary_statistics(undiscretized_data.column_names)\n",
    "print(\"Summary Statistics: \")\n",
    "summary_statistics.pretty_print()"
   ]
  },
  {
   "cell_type": "markdown",
   "metadata": {},
   "source": [
    "## Test Classifier Accuracy Using:\n",
    "1. Accuracy and error rate\n",
    "2. Precision, recall, and F1 measure"
   ]
  },
  {
   "cell_type": "code",
   "execution_count": 37,
   "metadata": {},
   "outputs": [
    {
     "name": "stdout",
     "output_type": "stream",
     "text": [
      "10-Fold Cross Validation\n",
      "________________________\n",
      "\n",
      "Naive Bayes Classifier: accuracy = 0.36, error rate = 0.64, precision = 0.46, recall = 0.49, F1 = 0.47,\n",
      "\n",
      "k Nearest Neighbors Classifier: accuracy = 0.44, error rate = 0.56, precision = 0.45, recall = 0.93, F1 = 0.60,\n",
      "\n",
      "Dummy Classifier: accuracy = 0.45, error rate = 0.55, precision = 0.45, recall = 1.00, F1 = 0.62,\n",
      "\n",
      "Decision Tree Classifier: accuracy = 0.43, error rate = 0.57, precision = 0.47, recall = 0.88, F1 = 0.61,\n"
     ]
    }
   ],
   "source": [
    "X = [\n",
    "    [\n",
    "        row[15],  # screen_on_time\n",
    "        row[14],  # num_sms\n",
    "        row[13],  # num_calls\n",
    "        row[8]    # sleep_time\n",
    "    ]\n",
    "    for row in stress_data.data\n",
    "]\n",
    "y = stress_data.get_column(\"PSS_score\")\n",
    "header = [\"screen_on_time\", \"num_sms\", \"num_calls\", \"sleep_time\"]\n",
    "header_map = [\"att0\", \"att1\", \"att2\", \"att3\"]\n",
    "\n",
    "knn_avg_acc, knn_error_rate, nb_avg_acc, nb_error_rate, knn_y_actual, knn_y_pred, nb_y_actual, nb_y_pred, knn_binary_ps, nb_binary_ps, knn_recall, nb_recall, knn_f1, nb_f1, dummy_avg_acc, dummy_error_rate, dummy_binary_ps, dummy_recall, dummy_f1, dummy_y_actual, dummy_y_pred = myutils.knn_nb_classifiers(X, y)\n",
    "tree_avg_acc, tree_error_rate, tree_binary_ps, tree_recall, tree_f1, tree_y_actual, tree_y_pred = myutils.tree_classifier(X, y, header_map)\n",
    "\n",
    "print(f\"10-Fold Cross Validation\")\n",
    "print(\"________________________\")\n",
    "print()\n",
    "print(f\"Naive Bayes Classifier: accuracy = {nb_avg_acc:.2f}, error rate = {nb_error_rate:.2f}, precision = {nb_binary_ps:.2f}, recall = {nb_recall:.2f}, F1 = {nb_f1:.2f},\")\n",
    "print()\n",
    "print(f\"k Nearest Neighbors Classifier: accuracy = {knn_avg_acc:.2f}, error rate = {knn_error_rate:.2f}, precision = {knn_binary_ps:.2f}, recall = {knn_recall:.2f}, F1 = {knn_f1:.2f},\")\n",
    "print()\n",
    "print(f\"Dummy Classifier: accuracy = {dummy_avg_acc:.2f}, error rate = {dummy_error_rate:.2f}, precision = {dummy_binary_ps:.2f}, recall = {dummy_recall:.2f}, F1 = {dummy_f1:.2f},\")\n",
    "print()\n",
    "print(f\"Decision Tree Classifier: accuracy = {tree_avg_acc:.2f}, error rate = {tree_error_rate:.2f}, precision = {tree_binary_ps:.2f}, recall = {tree_recall:.2f}, F1 = {tree_f1:.2f},\")"
   ]
  },
  {
   "cell_type": "markdown",
   "metadata": {},
   "source": [
    "## Confusion Matrices"
   ]
  },
  {
   "cell_type": "code",
   "execution_count": 38,
   "metadata": {},
   "outputs": [
    {
     "name": "stdout",
     "output_type": "stream",
     "text": [
      "============================================================\n",
      "STEP 4: Confusion Matrices\n",
      "============================================================\n",
      "\n",
      "kNN Classifier (10-fold Cross Validation Confusion Matrix)\n",
      "\n",
      "PSS_score\n",
      "            high    low    moderate\n",
      "--------  ------  -----  ----------\n",
      "high        1244     98           0\n",
      "low          887     80           0\n",
      "moderate     644     47           0\n",
      "\n",
      "------------------------------------------------------------\n",
      "\n",
      "Dummy Classifier (10-fold Cross Validation Confusion Matrix)\n",
      "\n",
      "PSS_score\n",
      "            high    low    moderate\n",
      "--------  ------  -----  ----------\n",
      "high        1342      0           0\n",
      "low          967      0           0\n",
      "moderate     691      0           0\n",
      "------------------------------------------------------------\n",
      "\n",
      "Naive Bayes Classifier (10-fold Cross Validation Confusion Matrix)\n",
      "\n",
      "PSS_score\n",
      "            high    low    moderate\n",
      "--------  ------  -----  ----------\n",
      "high         663    135         544\n",
      "low          474    114         379\n",
      "moderate     317     76         298\n",
      "------------------------------------------------------------\n",
      "Decision Tree Classifier (10-fold Cross Validation Confusion Matrix)\n",
      "\n",
      "PSS_score\n",
      "            high    low    moderate\n",
      "--------  ------  -----  ----------\n",
      "high         244     32           0\n",
      "low          165     26           0\n",
      "moderate     115     18           0\n",
      "------------------------------------------------------------\n"
     ]
    }
   ],
   "source": [
    "print(\"============================================================\")\n",
    "print(\"STEP 4: Confusion Matrices\")\n",
    "print(\"============================================================\")\n",
    "print()\n",
    "labels = sorted(set(knn_y_actual) | set(knn_y_pred))\n",
    "labels_strings = list(map(str, labels))\n",
    "kNN_matrix = myevaluation.confusion_matrix(knn_y_actual, knn_y_pred, labels)\n",
    "print(\"kNN Classifier (10-fold Cross Validation Confusion Matrix)\")\n",
    "print()\n",
    "print(\"PSS_score\")\n",
    "print(tabulate(kNN_matrix, headers = labels_strings, showindex = labels_strings))\n",
    "print()\n",
    "print(\"------------------------------------------------------------\")\n",
    "print()\n",
    "print(\"Dummy Classifier (10-fold Cross Validation Confusion Matrix)\")\n",
    "print()\n",
    "print(\"PSS_score\")\n",
    "dummy_matrix = myevaluation.confusion_matrix(dummy_y_actual, dummy_y_pred, labels)\n",
    "print(tabulate(dummy_matrix, headers = labels_strings, showindex = labels_strings))\n",
    "print(\"------------------------------------------------------------\")\n",
    "print()\n",
    "print(\"Naive Bayes Classifier (10-fold Cross Validation Confusion Matrix)\")\n",
    "print()\n",
    "print(\"PSS_score\")\n",
    "labels = sorted(set(nb_y_actual) | set(nb_y_pred))\n",
    "labels_strings = list(map(str, labels))\n",
    "nb_matrix = myevaluation.confusion_matrix(nb_y_actual, nb_y_pred, labels)\n",
    "print(tabulate(nb_matrix, headers = labels_strings, showindex = labels_strings))\n",
    "print(\"------------------------------------------------------------\")\n",
    "print(\"Decision Tree Classifier (10-fold Cross Validation Confusion Matrix)\")\n",
    "print()\n",
    "print(\"PSS_score\")\n",
    "labels = sorted(set(tree_y_actual) | set(tree_y_pred))\n",
    "labels_strings = list(map(str, labels))\n",
    "tree_matrix = myevaluation.confusion_matrix(tree_y_actual, tree_y_pred, labels)\n",
    "print(tabulate(tree_matrix, headers = labels_strings, showindex = labels_strings))\n",
    "print(\"------------------------------------------------------------\")"
   ]
  },
  {
   "cell_type": "markdown",
   "metadata": {},
   "source": [
    "## Decision Tree Rules\n",
    "\n",
    "These are the rules the decision tree classifier produces when trained over the entire data set"
   ]
  },
  {
   "cell_type": "code",
   "execution_count": 39,
   "metadata": {},
   "outputs": [
    {
     "name": "stdout",
     "output_type": "stream",
     "text": [
      "IF att1 == high AND att2 == high AND att3 == high AND att0 == high THEN class = high\n",
      "IF att1 == high AND att2 == high AND att3 == high AND att0 == low THEN class = high\n",
      "IF att1 == high AND att2 == high AND att3 == high AND att0 == moderate THEN class = high\n",
      "IF att1 == high AND att2 == high AND att3 == horrible AND att0 == high THEN class = high\n",
      "IF att1 == high AND att2 == high AND att3 == horrible AND att0 == low THEN class = high\n",
      "IF att1 == high AND att2 == high AND att3 == horrible AND att0 == moderate THEN class = high\n",
      "IF att1 == high AND att2 == high AND att3 == low AND att0 == high THEN class = high\n",
      "IF att1 == high AND att2 == high AND att3 == low AND att0 == low THEN class = high\n",
      "IF att1 == high AND att2 == high AND att3 == low AND att0 == moderate THEN class = high\n",
      "IF att1 == high AND att2 == high AND att3 == medium AND att0 == high THEN class = high\n",
      "IF att1 == high AND att2 == high AND att3 == medium AND att0 == low THEN class = high\n",
      "IF att1 == high AND att2 == high AND att3 == medium AND att0 == moderate THEN class = high\n",
      "IF att1 == high AND att2 == low AND att0 == high AND att3 == high THEN class = high\n",
      "IF att1 == high AND att2 == low AND att0 == high AND att3 == horrible THEN class = high\n",
      "IF att1 == high AND att2 == low AND att0 == high AND att3 == low THEN class = high\n",
      "IF att1 == high AND att2 == low AND att0 == high AND att3 == medium THEN class = high\n",
      "IF att1 == high AND att2 == low AND att0 == low AND att3 == high THEN class = high\n",
      "IF att1 == high AND att2 == low AND att0 == low AND att3 == horrible THEN class = high\n",
      "IF att1 == high AND att2 == low AND att0 == low AND att3 == low THEN class = high\n",
      "IF att1 == high AND att2 == low AND att0 == low AND att3 == medium THEN class = high\n",
      "IF att1 == high AND att2 == low AND att0 == moderate AND att3 == high THEN class = high\n",
      "IF att1 == high AND att2 == low AND att0 == moderate AND att3 == horrible THEN class = high\n",
      "IF att1 == high AND att2 == low AND att0 == moderate AND att3 == low THEN class = high\n",
      "IF att1 == high AND att2 == low AND att0 == moderate AND att3 == medium THEN class = high\n",
      "IF att1 == high AND att2 == moderate AND att3 == high AND att0 == high THEN class = high\n",
      "IF att1 == high AND att2 == moderate AND att3 == high AND att0 == low THEN class = high\n",
      "IF att1 == high AND att2 == moderate AND att3 == high AND att0 == moderate THEN class = high\n",
      "IF att1 == high AND att2 == moderate AND att3 == horrible AND att0 == high THEN class = high\n",
      "IF att1 == high AND att2 == moderate AND att3 == horrible AND att0 == low THEN class = high\n",
      "IF att1 == high AND att2 == moderate AND att3 == horrible AND att0 == moderate THEN class = high\n",
      "IF att1 == high AND att2 == moderate AND att3 == low AND att0 == high THEN class = high\n",
      "IF att1 == high AND att2 == moderate AND att3 == low AND att0 == low THEN class = high\n",
      "IF att1 == high AND att2 == moderate AND att3 == low AND att0 == moderate THEN class = high\n",
      "IF att1 == high AND att2 == moderate AND att3 == medium AND att0 == high THEN class = high\n",
      "IF att1 == high AND att2 == moderate AND att3 == medium AND att0 == low THEN class = high\n",
      "IF att1 == high AND att2 == moderate AND att3 == medium AND att0 == moderate THEN class = high\n",
      "IF att1 == low AND att3 == high AND att2 == high AND att0 == high THEN class = high\n",
      "IF att1 == low AND att3 == high AND att2 == high AND att0 == low THEN class = high\n",
      "IF att1 == low AND att3 == high AND att2 == high AND att0 == moderate THEN class = high\n",
      "IF att1 == low AND att3 == high AND att2 == low AND att0 == high THEN class = high\n",
      "IF att1 == low AND att3 == high AND att2 == low AND att0 == low THEN class = high\n",
      "IF att1 == low AND att3 == high AND att2 == low AND att0 == moderate THEN class = high\n",
      "IF att1 == low AND att3 == high AND att2 == moderate AND att0 == high THEN class = low\n",
      "IF att1 == low AND att3 == high AND att2 == moderate AND att0 == low THEN class = low\n",
      "IF att1 == low AND att3 == high AND att2 == moderate AND att0 == moderate THEN class = low\n",
      "IF att1 == low AND att3 == horrible AND att2 == high AND att0 == high THEN class = high\n",
      "IF att1 == low AND att3 == horrible AND att2 == high AND att0 == low THEN class = high\n",
      "IF att1 == low AND att3 == horrible AND att2 == high AND att0 == moderate THEN class = high\n",
      "IF att1 == low AND att3 == horrible AND att2 == low AND att0 == high THEN class = high\n",
      "IF att1 == low AND att3 == horrible AND att2 == low AND att0 == low THEN class = high\n",
      "IF att1 == low AND att3 == horrible AND att2 == low AND att0 == moderate THEN class = high\n",
      "IF att1 == low AND att3 == horrible AND att2 == moderate AND att0 == high THEN class = high\n",
      "IF att1 == low AND att3 == horrible AND att2 == moderate AND att0 == low THEN class = high\n",
      "IF att1 == low AND att3 == horrible AND att2 == moderate AND att0 == moderate THEN class = high\n",
      "IF att1 == low AND att3 == low AND att0 == high AND att2 == high THEN class = high\n",
      "IF att1 == low AND att3 == low AND att0 == high AND att2 == low THEN class = high\n",
      "IF att1 == low AND att3 == low AND att0 == high AND att2 == moderate THEN class = high\n",
      "IF att1 == low AND att3 == low AND att0 == low AND att2 == high THEN class = high\n",
      "IF att1 == low AND att3 == low AND att0 == low AND att2 == low THEN class = high\n",
      "IF att1 == low AND att3 == low AND att0 == low AND att2 == moderate THEN class = high\n",
      "IF att1 == low AND att3 == low AND att0 == moderate AND att2 == high THEN class = high\n",
      "IF att1 == low AND att3 == low AND att0 == moderate AND att2 == low THEN class = high\n",
      "IF att1 == low AND att3 == low AND att0 == moderate AND att2 == moderate THEN class = high\n",
      "IF att1 == low AND att3 == medium AND att0 == high AND att2 == high THEN class = low\n",
      "IF att1 == low AND att3 == medium AND att0 == high AND att2 == low THEN class = low\n",
      "IF att1 == low AND att3 == medium AND att0 == high AND att2 == moderate THEN class = low\n",
      "IF att1 == low AND att3 == medium AND att0 == low AND att2 == high THEN class = high\n",
      "IF att1 == low AND att3 == medium AND att0 == low AND att2 == low THEN class = high\n",
      "IF att1 == low AND att3 == medium AND att0 == low AND att2 == moderate THEN class = high\n",
      "IF att1 == low AND att3 == medium AND att0 == moderate AND att2 == high THEN class = high\n",
      "IF att1 == low AND att3 == medium AND att0 == moderate AND att2 == low THEN class = high\n",
      "IF att1 == low AND att3 == medium AND att0 == moderate AND att2 == moderate THEN class = high\n",
      "IF att1 == moderate AND att2 == high AND att0 == high AND att3 == high THEN class = high\n",
      "IF att1 == moderate AND att2 == high AND att0 == high AND att3 == horrible THEN class = high\n",
      "IF att1 == moderate AND att2 == high AND att0 == high AND att3 == low THEN class = high\n",
      "IF att1 == moderate AND att2 == high AND att0 == high AND att3 == medium THEN class = high\n",
      "IF att1 == moderate AND att2 == high AND att0 == low AND att3 == high THEN class = low\n",
      "IF att1 == moderate AND att2 == high AND att0 == low AND att3 == horrible THEN class = low\n",
      "IF att1 == moderate AND att2 == high AND att0 == low AND att3 == low THEN class = low\n",
      "IF att1 == moderate AND att2 == high AND att0 == low AND att3 == medium THEN class = low\n",
      "IF att1 == moderate AND att2 == high AND att0 == moderate AND att3 == high THEN class = high\n",
      "IF att1 == moderate AND att2 == high AND att0 == moderate AND att3 == horrible THEN class = high\n",
      "IF att1 == moderate AND att2 == high AND att0 == moderate AND att3 == low THEN class = high\n",
      "IF att1 == moderate AND att2 == high AND att0 == moderate AND att3 == medium THEN class = high\n",
      "IF att1 == moderate AND att2 == low AND att3 == high AND att0 == high THEN class = high\n",
      "IF att1 == moderate AND att2 == low AND att3 == high AND att0 == low THEN class = high\n",
      "IF att1 == moderate AND att2 == low AND att3 == high AND att0 == moderate THEN class = high\n",
      "IF att1 == moderate AND att2 == low AND att3 == horrible AND att0 == high THEN class = low\n",
      "IF att1 == moderate AND att2 == low AND att3 == horrible AND att0 == low THEN class = low\n",
      "IF att1 == moderate AND att2 == low AND att3 == horrible AND att0 == moderate THEN class = low\n",
      "IF att1 == moderate AND att2 == low AND att3 == low AND att0 == high THEN class = high\n",
      "IF att1 == moderate AND att2 == low AND att3 == low AND att0 == low THEN class = high\n",
      "IF att1 == moderate AND att2 == low AND att3 == low AND att0 == moderate THEN class = high\n",
      "IF att1 == moderate AND att2 == low AND att3 == medium AND att0 == high THEN class = high\n",
      "IF att1 == moderate AND att2 == low AND att3 == medium AND att0 == low THEN class = high\n",
      "IF att1 == moderate AND att2 == low AND att3 == medium AND att0 == moderate THEN class = high\n",
      "IF att1 == moderate AND att2 == moderate AND att3 == high AND att0 == high THEN class = high\n",
      "IF att1 == moderate AND att2 == moderate AND att3 == high AND att0 == low THEN class = high\n",
      "IF att1 == moderate AND att2 == moderate AND att3 == high AND att0 == moderate THEN class = high\n",
      "IF att1 == moderate AND att2 == moderate AND att3 == horrible AND att0 == high THEN class = high\n",
      "IF att1 == moderate AND att2 == moderate AND att3 == horrible AND att0 == low THEN class = high\n",
      "IF att1 == moderate AND att2 == moderate AND att3 == horrible AND att0 == moderate THEN class = high\n",
      "IF att1 == moderate AND att2 == moderate AND att3 == low AND att0 == high THEN class = high\n",
      "IF att1 == moderate AND att2 == moderate AND att3 == low AND att0 == low THEN class = high\n",
      "IF att1 == moderate AND att2 == moderate AND att3 == low AND att0 == moderate THEN class = high\n",
      "IF att1 == moderate AND att2 == moderate AND att3 == medium AND att0 == high THEN class = high\n",
      "IF att1 == moderate AND att2 == moderate AND att3 == medium AND att0 == low THEN class = high\n",
      "IF att1 == moderate AND att2 == moderate AND att3 == medium AND att0 == moderate THEN class = high\n"
     ]
    }
   ],
   "source": [
    "full_tree = myutils.tree_classifier_train_all(X, y, header)\n",
    "full_tree.print_decision_rules()"
   ]
  }
 ],
 "metadata": {
  "kernelspec": {
   "display_name": "base",
   "language": "python",
   "name": "python3"
  },
  "language_info": {
   "codemirror_mode": {
    "name": "ipython",
    "version": 3
   },
   "file_extension": ".py",
   "mimetype": "text/x-python",
   "name": "python",
   "nbconvert_exporter": "python",
   "pygments_lexer": "ipython3",
   "version": "3.12.4"
  }
 },
 "nbformat": 4,
 "nbformat_minor": 2
}
