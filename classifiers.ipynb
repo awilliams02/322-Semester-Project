{
 "cells": [
  {
   "cell_type": "markdown",
   "metadata": {},
   "source": [
    "## Classifiers\n",
    "\n",
    "This notebook holds a Dummy Classifier, kNN Classifier, Naive Bayes Classifier, and Decision Tree Classifier using k-fold cross validation with (k = 10) with the Stress Detection Dataset"
   ]
  },
  {
   "cell_type": "code",
   "execution_count": 11,
   "metadata": {},
   "outputs": [
    {
     "data": {
      "text/plain": [
       "<mysklearn.mypytable.MyPyTable at 0x7f5db8f35850>"
      ]
     },
     "execution_count": 11,
     "metadata": {},
     "output_type": "execute_result"
    }
   ],
   "source": [
    "import importlib\n",
    "from tabulate import tabulate\n",
    "\n",
    "import mysklearn.myutils\n",
    "importlib.reload(mysklearn.myutils)\n",
    "import mysklearn.myutils as myutils\n",
    "\n",
    "import mysklearn.mypytable\n",
    "importlib.reload(mysklearn.mypytable)\n",
    "from mysklearn.mypytable import MyPyTable \n",
    "\n",
    "import mysklearn.myclassifiers\n",
    "importlib.reload(mysklearn.myclassifiers)\n",
    "from mysklearn.myclassifiers import MyKNeighborsClassifier, MyDummyClassifier, MyNaiveBayesClassifier, MyDecisionTreeClassifier\n",
    "\n",
    "import mysklearn.myevaluation\n",
    "importlib.reload(mysklearn.myevaluation)\n",
    "import mysklearn.myevaluation as myevaluation\n",
    "\n",
    "stress_data = MyPyTable()\n",
    "stress_data.load_from_file(\"cleaned_data.csv\")"
   ]
  },
  {
   "cell_type": "markdown",
   "metadata": {},
   "source": [
    "#### Test Classifier Accuracy Using:\n",
    "1. Accuracy and error rate\n",
    "2. Precision, recall, and F1 measure"
   ]
  },
  {
   "cell_type": "code",
   "execution_count": 12,
   "metadata": {},
   "outputs": [
    {
     "name": "stdout",
     "output_type": "stream",
     "text": [
      "10-Fold Cross Validation\n",
      "________________________\n",
      "\n",
      "Naive Bayes Classifier: accuracy = 0.00, error rate = 0.00, precision = 0.00, recall = 0.00, F1 = 0.00,\n",
      "\n",
      "k Nearest Neighbors Classifier: accuracy = 0.45, error rate = 0.55, precision = 0.00, recall = 0.00, F1 = 0.00,\n",
      "\n",
      "Dummy Classifier: accuracy = 0.45, error rate = 0.55, precision = 0.00, recall = 0.00, F1 = 0.00,\n",
      "\n",
      "Decision Tree Classifier: accuracy = 0.00, error rate = 1.00, precision = 0.00, recall = 0.00, F1 = 0.00,\n"
     ]
    }
   ],
   "source": [
    "X = [\n",
    "    [\n",
    "        row[15], # screen_on_time\n",
    "        row[10], # sleep_duration\n",
    "        row[9],  # wake_time\n",
    "        row[8]   # sleep_time\n",
    "    ]\n",
    "    for row in stress_data.data\n",
    "]\n",
    "y = stress_data.get_column(\"PSS_score\")\n",
    "header = [\"screen_on_time\", \"sleep_duration\", \"wake_time\", \"sleep_time\"]\n",
    "header_map = [\"att0\", \"att1\", \"att2\", \"att3\"]\n",
    "\n",
    "knn_avg_acc, knn_error_rate, nb_avg_acc, nb_error_rate, knn_y_actual, knn_y_pred, nb_y_actual, nb_y_pred, knn_binary_ps, nb_binary_ps, knn_recall, nb_recall, knn_f1, nb_f1, dummy_avg_acc, dummy_error_rate, dummy_binary_ps, dummy_recall, dummy_f1, dummy_y_actual, dummy_y_pred = myutils.knn_nb_classifiers(X, y)\n",
    "tree_avg_acc, tree_error_rate, tree_binary_ps, tree_recall, tree_f1, tree_y_actual, tree_y_pred = myutils.tree_classifier(X, y, header_map)\n",
    "\n",
    "print(f\"10-Fold Cross Validation\")\n",
    "print(\"________________________\")\n",
    "print()\n",
    "print(f\"Naive Bayes Classifier: accuracy = {nb_avg_acc:.2f}, error rate = {nb_error_rate:.2f}, precision = {nb_binary_ps:.2f}, recall = {nb_recall:.2f}, F1 = {nb_f1:.2f},\")\n",
    "print()\n",
    "print(f\"k Nearest Neighbors Classifier: accuracy = {knn_avg_acc:.2f}, error rate = {knn_error_rate:.2f}, precision = {knn_binary_ps:.2f}, recall = {knn_recall:.2f}, F1 = {knn_f1:.2f},\")\n",
    "print()\n",
    "print(f\"Dummy Classifier: accuracy = {dummy_avg_acc:.2f}, error rate = {dummy_error_rate:.2f}, precision = {dummy_binary_ps:.2f}, recall = {dummy_recall:.2f}, F1 = {dummy_f1:.2f},\")\n",
    "print()\n",
    "print(f\"Decision Tree Classifier: accuracy = {tree_avg_acc:.2f}, error rate = {tree_error_rate:.2f}, precision = {tree_binary_ps:.2f}, recall = {tree_recall:.2f}, F1 = {tree_f1:.2f},\")"
   ]
  },
  {
   "cell_type": "markdown",
   "metadata": {},
   "source": [
    "## Confusion Matrices"
   ]
  },
  {
   "cell_type": "code",
   "execution_count": 13,
   "metadata": {},
   "outputs": [
    {
     "name": "stdout",
     "output_type": "stream",
     "text": [
      "============================================================\n",
      "STEP 4: Confusion Matrices\n",
      "============================================================\n",
      "\n",
      "kNN Classifier (10-fold Cross Validation Confusion Matrix)\n",
      "\n",
      "PSS_score\n",
      "            high    low    moderate\n",
      "--------  ------  -----  ----------\n",
      "high           0      0        1280\n",
      "low            0      0         378\n",
      "moderate       0      0        1342\n",
      "\n",
      "------------------------------------------------------------\n",
      "\n",
      "Dummy Classifier (10-fold Cross Validation Confusion Matrix)\n",
      "\n",
      "PSS_score\n",
      "            high    low    moderate\n",
      "--------  ------  -----  ----------\n",
      "high           0      0        1280\n",
      "low            0      0         378\n",
      "moderate       0      0        1342\n",
      "------------------------------------------------------------\n",
      "\n",
      "Naive Bayes Classifier (10-fold Cross Validation Confusion Matrix)\n",
      "\n",
      "PSS_score\n",
      "\n",
      "------------------------------------------------------------\n",
      "Decision Tree Classifier (10-fold Cross Validation Confusion Matrix)\n",
      "\n",
      "PSS_score\n"
     ]
    },
    {
     "ename": "TypeError",
     "evalue": "'<' not supported between instances of 'NoneType' and 'str'",
     "output_type": "error",
     "traceback": [
      "\u001b[0;31m---------------------------------------------------------------------------\u001b[0m",
      "\u001b[0;31mTypeError\u001b[0m                                 Traceback (most recent call last)",
      "Cell \u001b[0;32mIn[13], line 33\u001b[0m\n\u001b[1;32m     31\u001b[0m \u001b[38;5;28mprint\u001b[39m()\n\u001b[1;32m     32\u001b[0m \u001b[38;5;28mprint\u001b[39m(\u001b[38;5;124m\"\u001b[39m\u001b[38;5;124mPSS_score\u001b[39m\u001b[38;5;124m\"\u001b[39m)\n\u001b[0;32m---> 33\u001b[0m labels \u001b[38;5;241m=\u001b[39m \u001b[38;5;28msorted\u001b[39m(\u001b[38;5;28mset\u001b[39m(tree_y_actual) \u001b[38;5;241m|\u001b[39m \u001b[38;5;28mset\u001b[39m(tree_y_pred))\n\u001b[1;32m     34\u001b[0m labels_strings \u001b[38;5;241m=\u001b[39m \u001b[38;5;28mlist\u001b[39m(\u001b[38;5;28mmap\u001b[39m(\u001b[38;5;28mstr\u001b[39m, labels))\n\u001b[1;32m     35\u001b[0m tree_matrix \u001b[38;5;241m=\u001b[39m myevaluation\u001b[38;5;241m.\u001b[39mconfusion_matrix(tree_y_actual, tree_y_pred, labels)\n",
      "\u001b[0;31mTypeError\u001b[0m: '<' not supported between instances of 'NoneType' and 'str'"
     ]
    }
   ],
   "source": [
    "print(\"============================================================\")\n",
    "print(\"STEP 4: Confusion Matrices\")\n",
    "print(\"============================================================\")\n",
    "print()\n",
    "labels = sorted(set(knn_y_actual) | set(knn_y_pred))\n",
    "labels_strings = list(map(str, labels))\n",
    "kNN_matrix = myevaluation.confusion_matrix(knn_y_actual, knn_y_pred, labels)\n",
    "print(\"kNN Classifier (10-fold Cross Validation Confusion Matrix)\")\n",
    "print()\n",
    "print(\"PSS_score\")\n",
    "print(tabulate(kNN_matrix, headers = labels_strings, showindex = labels_strings))\n",
    "print()\n",
    "print(\"------------------------------------------------------------\")\n",
    "print()\n",
    "print(\"Dummy Classifier (10-fold Cross Validation Confusion Matrix)\")\n",
    "print()\n",
    "print(\"PSS_score\")\n",
    "dummy_matrix = myevaluation.confusion_matrix(dummy_y_actual, dummy_y_pred, labels)\n",
    "print(tabulate(dummy_matrix, headers = labels_strings, showindex = labels_strings))\n",
    "print(\"------------------------------------------------------------\")\n",
    "print()\n",
    "print(\"Naive Bayes Classifier (10-fold Cross Validation Confusion Matrix)\")\n",
    "print()\n",
    "print(\"PSS_score\")\n",
    "labels = sorted(set(nb_y_actual) | set(nb_y_pred))\n",
    "labels_strings = list(map(str, labels))\n",
    "nb_matrix = myevaluation.confusion_matrix(nb_y_actual, nb_y_pred, labels)\n",
    "print(tabulate(nb_matrix, headers = labels_strings, showindex = labels_strings))\n",
    "print(\"------------------------------------------------------------\")\n",
    "print(\"Decision Tree Classifier (10-fold Cross Validation Confusion Matrix)\")\n",
    "print()\n",
    "print(\"PSS_score\")\n",
    "labels = sorted(set(tree_y_actual) | set(tree_y_pred))\n",
    "labels_strings = list(map(str, labels))\n",
    "tree_matrix = myevaluation.confusion_matrix(tree_y_actual, tree_y_pred, labels)\n",
    "print(tabulate(tree_matrix, headers = labels_strings, showindex = labels_strings))\n",
    "print(\"------------------------------------------------------------\")"
   ]
  }
 ],
 "metadata": {
  "kernelspec": {
   "display_name": "base",
   "language": "python",
   "name": "python3"
  },
  "language_info": {
   "codemirror_mode": {
    "name": "ipython",
    "version": 3
   },
   "file_extension": ".py",
   "mimetype": "text/x-python",
   "name": "python",
   "nbconvert_exporter": "python",
   "pygments_lexer": "ipython3",
   "version": "3.12.4"
  }
 },
 "nbformat": 4,
 "nbformat_minor": 2
}
