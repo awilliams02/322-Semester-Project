{
 "cells": [
  {
   "cell_type": "markdown",
   "metadata": {},
   "source": [
    "## Classifiers\n",
    "\n",
    "This notebook holds a Dummy Classifier, kNN Classifier, Naive Bayes Classifier, and Decision Tree Classifier using k-fold cross validation with (k = 10) with the Stress Detection Dataset"
   ]
  },
  {
   "cell_type": "code",
   "execution_count": 35,
   "metadata": {},
   "outputs": [],
   "source": [
    "import importlib\n",
    "from tabulate import tabulate\n",
    "\n",
    "import mysklearn.myutils\n",
    "importlib.reload(mysklearn.myutils)\n",
    "import mysklearn.myutils as myutils\n",
    "\n",
    "import mysklearn.mypytable\n",
    "importlib.reload(mysklearn.mypytable)\n",
    "from mysklearn.mypytable import MyPyTable \n",
    "\n",
    "import mysklearn.myclassifiers\n",
    "importlib.reload(mysklearn.myclassifiers)\n",
    "from mysklearn.myclassifiers import MyKNeighborsClassifier, MyDummyClassifier, MyNaiveBayesClassifier, MyDecisionTreeClassifier\n",
    "\n",
    "import mysklearn.myevaluation\n",
    "importlib.reload(mysklearn.myevaluation)\n",
    "import mysklearn.myevaluation as myevaluation\n",
    "\n",
    "stress_data = MyPyTable()\n",
    "stress_data.load_from_file(\"cleaned_data.csv\")\n",
    "midpoint = len(stress_data.data) // 200\n",
    "del stress_data.data[:midpoint]"
   ]
  },
  {
   "cell_type": "markdown",
   "metadata": {},
   "source": [
    "## Summary Statistics of the Stress Detection Data"
   ]
  },
  {
   "cell_type": "code",
   "execution_count": 36,
   "metadata": {},
   "outputs": [
    {
     "name": "stdout",
     "output_type": "stream",
     "text": [
      "Summary Stats: \n",
      "attribute                 min        max        mid        avg     median\n",
      "-----------------  ----------  ---------  ---------  ---------  ---------\n",
      "participant_id     1           100        50.5       50.7487    51\n",
      "day                1            30        15.5       15.5377    16\n",
      "Openness           1.005         4.9974    3.0012     3.02265    3.05234\n",
      "Conscientiousness  1.00098       4.99914   3.00006    3.00891    3.0222\n",
      "Extraversion       1.00058       4.99764   2.99911    3.0018     2.98471\n",
      "Agreeableness      1.00221       4.99988   3.00104    3.0492     3.09383\n",
      "Neuroticism        1.00017       4.99641   2.99829    2.96392    2.94161\n",
      "sleep_time         5.00329       8.99995   7.00162    6.99883    6.96902\n",
      "wake_time          5.00193       8.99837   7.00015    6.98997    6.98172\n",
      "sleep_duration     6.00056       8.99906   7.49981    7.47718    7.46211\n",
      "PSQI_score         1             4         2.5        2.48911    2\n",
      "call_duration      0.00288614   59.9831   29.993     29.7355    29.4876\n",
      "num_calls          0            19         9.5        9.36851    9\n",
      "num_sms            0            49        24.5       24.4663    24\n",
      "screen_on_time     1.00687      11.9979    6.50237    6.62518    6.69744\n",
      "skin_conductance   0.501595      4.9991    2.75035    2.7627     2.76724\n",
      "accelerometer      0.100791      2.49995   1.30037    1.31765    1.32063\n",
      "mobility_radius    0.100041      1.49989   0.799966   0.803436   0.794431\n",
      "mobility_distance  0.501622      4.99993   2.75078    2.8036     2.80251\n"
     ]
    }
   ],
   "source": [
    "summary_statistics = stress_data.compute_summary_statistics(stress_data.column_names)\n",
    "print(\"Summary Stats: \")\n",
    "summary_statistics.pretty_print()"
   ]
  },
  {
   "cell_type": "markdown",
   "metadata": {},
   "source": [
    "#### Test Classifier Accuracy Using:\n",
    "1. Accuracy and error rate\n",
    "2. Precision, recall, and F1 measure"
   ]
  },
  {
   "cell_type": "code",
   "execution_count": 37,
   "metadata": {},
   "outputs": [
    {
     "ename": "KeyError",
     "evalue": "7.636323335",
     "output_type": "error",
     "traceback": [
      "\u001b[0;31m---------------------------------------------------------------------------\u001b[0m",
      "\u001b[0;31mKeyError\u001b[0m                                  Traceback (most recent call last)",
      "Cell \u001b[0;32mIn[37], line 14\u001b[0m\n\u001b[1;32m     11\u001b[0m header \u001b[38;5;241m=\u001b[39m [\u001b[38;5;124m\"\u001b[39m\u001b[38;5;124mscreen_on_time\u001b[39m\u001b[38;5;124m\"\u001b[39m, \u001b[38;5;124m\"\u001b[39m\u001b[38;5;124msleep_duration\u001b[39m\u001b[38;5;124m\"\u001b[39m, \u001b[38;5;124m\"\u001b[39m\u001b[38;5;124mwake_time\u001b[39m\u001b[38;5;124m\"\u001b[39m, \u001b[38;5;124m\"\u001b[39m\u001b[38;5;124msleep_time\u001b[39m\u001b[38;5;124m\"\u001b[39m]\n\u001b[1;32m     12\u001b[0m header_map \u001b[38;5;241m=\u001b[39m [\u001b[38;5;124m\"\u001b[39m\u001b[38;5;124matt0\u001b[39m\u001b[38;5;124m\"\u001b[39m, \u001b[38;5;124m\"\u001b[39m\u001b[38;5;124matt1\u001b[39m\u001b[38;5;124m\"\u001b[39m, \u001b[38;5;124m\"\u001b[39m\u001b[38;5;124matt2\u001b[39m\u001b[38;5;124m\"\u001b[39m, \u001b[38;5;124m\"\u001b[39m\u001b[38;5;124matt3\u001b[39m\u001b[38;5;124m\"\u001b[39m]\n\u001b[0;32m---> 14\u001b[0m knn_avg_acc, knn_error_rate, nb_avg_acc, nb_error_rate, knn_y_actual, knn_y_pred, nb_y_actual, nb_y_pred, knn_binary_ps, nb_binary_ps, knn_recall, nb_recall, knn_f1, nb_f1, dummy_avg_acc, dummy_error_rate, dummy_binary_ps, dummy_recall, dummy_f1, dummy_y_actual, dummy_y_pred \u001b[38;5;241m=\u001b[39m myutils\u001b[38;5;241m.\u001b[39mknn_nb_classifiers(X, y)\n\u001b[1;32m     15\u001b[0m tree_avg_acc, tree_error_rate, tree_binary_ps, tree_recall, tree_f1, tree_y_actual, tree_y_pred \u001b[38;5;241m=\u001b[39m myutils\u001b[38;5;241m.\u001b[39mtree_classifier(X, y, header_map)\n\u001b[1;32m     17\u001b[0m \u001b[38;5;28mprint\u001b[39m(\u001b[38;5;124mf\u001b[39m\u001b[38;5;124m\"\u001b[39m\u001b[38;5;124m10-Fold Cross Validation\u001b[39m\u001b[38;5;124m\"\u001b[39m)\n",
      "File \u001b[0;32m/home/semesterProject/322-Semester-Project/mysklearn/myutils.py:349\u001b[0m, in \u001b[0;36mknn_nb_classifiers\u001b[0;34m(X, y)\u001b[0m\n\u001b[1;32m    344\u001b[0m     knn_y_actual.append(y_test[i])\n\u001b[1;32m    345\u001b[0m     knn_y_pred.append(y_pred_knn[i])\n\u001b[1;32m    347\u001b[0m #nb = myclassifiers.MyNaiveBayesClassifier()\n\u001b[1;32m    348\u001b[0m #nb.fit(X_train, X_test)\n\u001b[0;32m--> 349\u001b[0m #y_pred_nb = nb.predict(X_test)\n\u001b[1;32m    350\u001b[0m #nb_accuracy.append(myevaluation.accuracy_score(y_pred_nb, y_test))\n\u001b[1;32m    351\u001b[0m #for i in range(len(y_test)):\n\u001b[1;32m    352\u001b[0m #    nb_y_actual.append(y_test[i])\n\u001b[1;32m    353\u001b[0m #    nb_y_pred.append(y_pred_nb[i])\n\u001b[1;32m    355\u001b[0m dummy = myclassifiers.MyDummyClassifier()\n\u001b[1;32m    356\u001b[0m dummy.fit(X_train, y_train)\n",
      "File \u001b[0;32m/home/semesterProject/322-Semester-Project/mysklearn/myclassifiers.py:246\u001b[0m, in \u001b[0;36mMyNaiveBayesClassifier.predict\u001b[0;34m(self, X_test)\u001b[0m\n\u001b[1;32m    243\u001b[0m log_posterior \u001b[38;5;241m=\u001b[39m math\u001b[38;5;241m.\u001b[39mlog(\u001b[38;5;28mself\u001b[39m\u001b[38;5;241m.\u001b[39mpriors[label])\n\u001b[1;32m    245\u001b[0m \u001b[38;5;28;01mfor\u001b[39;00m feature_idx, feature_value \u001b[38;5;129;01min\u001b[39;00m \u001b[38;5;28menumerate\u001b[39m(instance):\n\u001b[0;32m--> 246\u001b[0m     log_posterior \u001b[38;5;241m+\u001b[39m\u001b[38;5;241m=\u001b[39m math\u001b[38;5;241m.\u001b[39mlog(\u001b[38;5;28mself\u001b[39m\u001b[38;5;241m.\u001b[39mposteriors[label][feature_idx][feature_value])\n\u001b[1;32m    248\u001b[0m \u001b[38;5;28;01mif\u001b[39;00m max_posterior \u001b[38;5;129;01mis\u001b[39;00m \u001b[38;5;28;01mNone\u001b[39;00m \u001b[38;5;129;01mor\u001b[39;00m log_posterior \u001b[38;5;241m>\u001b[39m max_posterior:\n\u001b[1;32m    249\u001b[0m     max_posterior \u001b[38;5;241m=\u001b[39m log_posterior\n",
      "\u001b[0;31mKeyError\u001b[0m: 7.636323335"
     ]
    }
   ],
   "source": [
    "X = [\n",
    "    [\n",
    "        row[15], # screen_on_time\n",
    "        row[10], # sleep_duration\n",
    "        row[9],  # wake_time\n",
    "        row[8]   # sleep_time\n",
    "    ]\n",
    "    for row in stress_data.data\n",
    "]\n",
    "y = stress_data.get_column(\"PSS_score\")\n",
    "header = [\"screen_on_time\", \"sleep_duration\", \"wake_time\", \"sleep_time\"]\n",
    "header_map = [\"att0\", \"att1\", \"att2\", \"att3\"]\n",
    "\n",
    "knn_avg_acc, knn_error_rate, nb_avg_acc, nb_error_rate, knn_y_actual, knn_y_pred, nb_y_actual, nb_y_pred, knn_binary_ps, nb_binary_ps, knn_recall, nb_recall, knn_f1, nb_f1, dummy_avg_acc, dummy_error_rate, dummy_binary_ps, dummy_recall, dummy_f1, dummy_y_actual, dummy_y_pred = myutils.knn_nb_classifiers(X, y)\n",
    "tree_avg_acc, tree_error_rate, tree_binary_ps, tree_recall, tree_f1, tree_y_actual, tree_y_pred = myutils.tree_classifier(X, y, header_map)\n",
    "\n",
    "print(f\"10-Fold Cross Validation\")\n",
    "print(\"________________________\")\n",
    "print()\n",
    "print(f\"Naive Bayes Classifier: accuracy = {nb_avg_acc:.2f}, error rate = {nb_error_rate:.2f}, precision = {nb_binary_ps:.2f}, recall = {nb_recall:.2f}, F1 = {nb_f1:.2f},\")\n",
    "print()\n",
    "print(f\"k Nearest Neighbors Classifier: accuracy = {knn_avg_acc:.2f}, error rate = {knn_error_rate:.2f}, precision = {knn_binary_ps:.2f}, recall = {knn_recall:.2f}, F1 = {knn_f1:.2f},\")\n",
    "print()\n",
    "print(f\"Dummy Classifier: accuracy = {dummy_avg_acc:.2f}, error rate = {dummy_error_rate:.2f}, precision = {dummy_binary_ps:.2f}, recall = {dummy_recall:.2f}, F1 = {dummy_f1:.2f},\")\n",
    "print()\n",
    "print(f\"Decision Tree Classifier: accuracy = {tree_avg_acc:.2f}, error rate = {tree_error_rate:.2f}, precision = {tree_binary_ps:.2f}, recall = {tree_recall:.2f}, F1 = {tree_f1:.2f},\")"
   ]
  },
  {
   "cell_type": "markdown",
   "metadata": {},
   "source": [
    "## Confusion Matrices"
   ]
  },
  {
   "cell_type": "code",
   "execution_count": null,
   "metadata": {},
   "outputs": [
    {
     "name": "stdout",
     "output_type": "stream",
     "text": [
      "============================================================\n",
      "STEP 4: Confusion Matrices\n",
      "============================================================\n",
      "\n",
      "kNN Classifier (10-fold Cross Validation Confusion Matrix)\n",
      "\n",
      "PSS_score\n",
      "        high    low\n",
      "----  ------  -----\n",
      "high    2033      0\n",
      "low      967      0\n",
      "\n",
      "------------------------------------------------------------\n",
      "\n",
      "Dummy Classifier (10-fold Cross Validation Confusion Matrix)\n",
      "\n",
      "PSS_score\n",
      "        high    low\n",
      "----  ------  -----\n",
      "high    2033      0\n",
      "low      967      0\n",
      "------------------------------------------------------------\n",
      "\n",
      "Naive Bayes Classifier (10-fold Cross Validation Confusion Matrix)\n",
      "\n",
      "PSS_score\n",
      "\n",
      "------------------------------------------------------------\n",
      "Decision Tree Classifier (10-fold Cross Validation Confusion Matrix)\n",
      "\n",
      "PSS_score\n"
     ]
    },
    {
     "ename": "TypeError",
     "evalue": "'<' not supported between instances of 'NoneType' and 'str'",
     "output_type": "error",
     "traceback": [
      "\u001b[0;31m---------------------------------------------------------------------------\u001b[0m",
      "\u001b[0;31mTypeError\u001b[0m                                 Traceback (most recent call last)",
      "Cell \u001b[0;32mIn[18], line 33\u001b[0m\n\u001b[1;32m     31\u001b[0m \u001b[38;5;28mprint\u001b[39m()\n\u001b[1;32m     32\u001b[0m \u001b[38;5;28mprint\u001b[39m(\u001b[38;5;124m\"\u001b[39m\u001b[38;5;124mPSS_score\u001b[39m\u001b[38;5;124m\"\u001b[39m)\n\u001b[0;32m---> 33\u001b[0m labels \u001b[38;5;241m=\u001b[39m \u001b[38;5;28msorted\u001b[39m(\u001b[38;5;28mset\u001b[39m(tree_y_actual) \u001b[38;5;241m|\u001b[39m \u001b[38;5;28mset\u001b[39m(tree_y_pred))\n\u001b[1;32m     34\u001b[0m labels_strings \u001b[38;5;241m=\u001b[39m \u001b[38;5;28mlist\u001b[39m(\u001b[38;5;28mmap\u001b[39m(\u001b[38;5;28mstr\u001b[39m, labels))\n\u001b[1;32m     35\u001b[0m tree_matrix \u001b[38;5;241m=\u001b[39m myevaluation\u001b[38;5;241m.\u001b[39mconfusion_matrix(tree_y_actual, tree_y_pred, labels)\n",
      "\u001b[0;31mTypeError\u001b[0m: '<' not supported between instances of 'NoneType' and 'str'"
     ]
    }
   ],
   "source": [
    "print(\"============================================================\")\n",
    "print(\"STEP 4: Confusion Matrices\")\n",
    "print(\"============================================================\")\n",
    "print()\n",
    "labels = sorted(set(knn_y_actual) | set(knn_y_pred))\n",
    "labels_strings = list(map(str, labels))\n",
    "kNN_matrix = myevaluation.confusion_matrix(knn_y_actual, knn_y_pred, labels)\n",
    "print(\"kNN Classifier (10-fold Cross Validation Confusion Matrix)\")\n",
    "print()\n",
    "print(\"PSS_score\")\n",
    "print(tabulate(kNN_matrix, headers = labels_strings, showindex = labels_strings))\n",
    "print()\n",
    "print(\"------------------------------------------------------------\")\n",
    "print()\n",
    "print(\"Dummy Classifier (10-fold Cross Validation Confusion Matrix)\")\n",
    "print()\n",
    "print(\"PSS_score\")\n",
    "dummy_matrix = myevaluation.confusion_matrix(dummy_y_actual, dummy_y_pred, labels)\n",
    "print(tabulate(dummy_matrix, headers = labels_strings, showindex = labels_strings))\n",
    "print(\"------------------------------------------------------------\")\n",
    "print()\n",
    "print(\"Naive Bayes Classifier (10-fold Cross Validation Confusion Matrix)\")\n",
    "print()\n",
    "print(\"PSS_score\")\n",
    "labels = sorted(set(nb_y_actual) | set(nb_y_pred))\n",
    "labels_strings = list(map(str, labels))\n",
    "nb_matrix = myevaluation.confusion_matrix(nb_y_actual, nb_y_pred, labels)\n",
    "print(tabulate(nb_matrix, headers = labels_strings, showindex = labels_strings))\n",
    "print(\"------------------------------------------------------------\")\n",
    "print(\"Decision Tree Classifier (10-fold Cross Validation Confusion Matrix)\")\n",
    "print()\n",
    "print(\"PSS_score\")\n",
    "labels = sorted(set(tree_y_actual) | set(tree_y_pred))\n",
    "labels_strings = list(map(str, labels))\n",
    "tree_matrix = myevaluation.confusion_matrix(tree_y_actual, tree_y_pred, labels)\n",
    "print(tabulate(tree_matrix, headers = labels_strings, showindex = labels_strings))\n",
    "print(\"------------------------------------------------------------\")"
   ]
  }
 ],
 "metadata": {
  "kernelspec": {
   "display_name": "base",
   "language": "python",
   "name": "python3"
  },
  "language_info": {
   "codemirror_mode": {
    "name": "ipython",
    "version": 3
   },
   "file_extension": ".py",
   "mimetype": "text/x-python",
   "name": "python",
   "nbconvert_exporter": "python",
   "pygments_lexer": "ipython3",
   "version": "3.12.4"
  }
 },
 "nbformat": 4,
 "nbformat_minor": 2
}
